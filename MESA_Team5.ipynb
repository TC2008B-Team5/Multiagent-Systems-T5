{
  "cells": [
    {
      "cell_type": "markdown",
      "metadata": {
        "id": "view-in-github",
        "colab_type": "text"
      },
      "source": [
        "<a href=\"https://colab.research.google.com/github/TC2008B-Team5/Multiagent-Systems-T5/blob/main/MESA_Team5.ipynb\" target=\"_parent\"><img src=\"https://colab.research.google.com/assets/colab-badge.svg\" alt=\"Open In Colab\"/></a>"
      ]
    },
    {
      "cell_type": "code",
      "execution_count": null,
      "metadata": {
        "colab": {
          "base_uri": "https://localhost:8080/"
        },
        "id": "KbOtd7bmWn55",
        "outputId": "f21c46dd-387d-4d41-ce94-e39b27f5ebda"
      },
      "outputs": [
        {
          "name": "stdout",
          "output_type": "stream",
          "text": [
            "Requirement already satisfied: mesa in /Users/pedropc/.pyenv/versions/3.13.0/envs/myenv/lib/python3.13/site-packages (3.0.3)\n",
            "Requirement already satisfied: numpy in /Users/pedropc/.pyenv/versions/3.13.0/envs/myenv/lib/python3.13/site-packages (from mesa) (2.1.3)\n",
            "Requirement already satisfied: pandas in /Users/pedropc/.pyenv/versions/3.13.0/envs/myenv/lib/python3.13/site-packages (from mesa) (2.2.3)\n",
            "Requirement already satisfied: tqdm in /Users/pedropc/.pyenv/versions/3.13.0/envs/myenv/lib/python3.13/site-packages (from mesa) (4.67.0)\n",
            "Requirement already satisfied: python-dateutil>=2.8.2 in /Users/pedropc/.pyenv/versions/3.13.0/envs/myenv/lib/python3.13/site-packages (from pandas->mesa) (2.9.0.post0)\n",
            "Requirement already satisfied: pytz>=2020.1 in /Users/pedropc/.pyenv/versions/3.13.0/envs/myenv/lib/python3.13/site-packages (from pandas->mesa) (2024.2)\n",
            "Requirement already satisfied: tzdata>=2022.7 in /Users/pedropc/.pyenv/versions/3.13.0/envs/myenv/lib/python3.13/site-packages (from pandas->mesa) (2024.2)\n",
            "Requirement already satisfied: six>=1.5 in /Users/pedropc/.pyenv/versions/3.13.0/envs/myenv/lib/python3.13/site-packages (from python-dateutil>=2.8.2->pandas->mesa) (1.16.0)\n"
          ]
        }
      ],
      "source": [
        "!pip install -U 'mesa'"
      ]
    },
    {
      "cell_type": "code",
      "execution_count": null,
      "metadata": {
        "id": "XNIN5dGBzjGv",
        "outputId": "23eaea69-3272-4267-97b8-383d15d43f4e"
      },
      "outputs": [
        {
          "name": "stdout",
          "output_type": "stream",
          "text": [
            "Requirement already satisfied: seaborn in /Users/pedropc/.pyenv/versions/3.13.0/envs/myenv/lib/python3.13/site-packages (0.13.2)\n",
            "Requirement already satisfied: numpy!=1.24.0,>=1.20 in /Users/pedropc/.pyenv/versions/3.13.0/envs/myenv/lib/python3.13/site-packages (from seaborn) (2.1.3)\n",
            "Requirement already satisfied: pandas>=1.2 in /Users/pedropc/.pyenv/versions/3.13.0/envs/myenv/lib/python3.13/site-packages (from seaborn) (2.2.3)\n",
            "Requirement already satisfied: matplotlib!=3.6.1,>=3.4 in /Users/pedropc/.pyenv/versions/3.13.0/envs/myenv/lib/python3.13/site-packages (from seaborn) (3.9.2)\n",
            "Requirement already satisfied: contourpy>=1.0.1 in /Users/pedropc/.pyenv/versions/3.13.0/envs/myenv/lib/python3.13/site-packages (from matplotlib!=3.6.1,>=3.4->seaborn) (1.3.1)\n",
            "Requirement already satisfied: cycler>=0.10 in /Users/pedropc/.pyenv/versions/3.13.0/envs/myenv/lib/python3.13/site-packages (from matplotlib!=3.6.1,>=3.4->seaborn) (0.12.1)\n",
            "Requirement already satisfied: fonttools>=4.22.0 in /Users/pedropc/.pyenv/versions/3.13.0/envs/myenv/lib/python3.13/site-packages (from matplotlib!=3.6.1,>=3.4->seaborn) (4.55.0)\n",
            "Requirement already satisfied: kiwisolver>=1.3.1 in /Users/pedropc/.pyenv/versions/3.13.0/envs/myenv/lib/python3.13/site-packages (from matplotlib!=3.6.1,>=3.4->seaborn) (1.4.7)\n",
            "Requirement already satisfied: packaging>=20.0 in /Users/pedropc/.pyenv/versions/3.13.0/envs/myenv/lib/python3.13/site-packages (from matplotlib!=3.6.1,>=3.4->seaborn) (24.2)\n",
            "Requirement already satisfied: pillow>=8 in /Users/pedropc/.pyenv/versions/3.13.0/envs/myenv/lib/python3.13/site-packages (from matplotlib!=3.6.1,>=3.4->seaborn) (11.0.0)\n",
            "Requirement already satisfied: pyparsing>=2.3.1 in /Users/pedropc/.pyenv/versions/3.13.0/envs/myenv/lib/python3.13/site-packages (from matplotlib!=3.6.1,>=3.4->seaborn) (3.2.0)\n",
            "Requirement already satisfied: python-dateutil>=2.7 in /Users/pedropc/.pyenv/versions/3.13.0/envs/myenv/lib/python3.13/site-packages (from matplotlib!=3.6.1,>=3.4->seaborn) (2.9.0.post0)\n",
            "Requirement already satisfied: pytz>=2020.1 in /Users/pedropc/.pyenv/versions/3.13.0/envs/myenv/lib/python3.13/site-packages (from pandas>=1.2->seaborn) (2024.2)\n",
            "Requirement already satisfied: tzdata>=2022.7 in /Users/pedropc/.pyenv/versions/3.13.0/envs/myenv/lib/python3.13/site-packages (from pandas>=1.2->seaborn) (2024.2)\n",
            "Requirement already satisfied: six>=1.5 in /Users/pedropc/.pyenv/versions/3.13.0/envs/myenv/lib/python3.13/site-packages (from python-dateutil>=2.7->matplotlib!=3.6.1,>=3.4->seaborn) (1.16.0)\n",
            "                                                                                \n",
            " \u001b[33mUsage:\u001b[0m \u001b[1msolara\u001b[0m [\u001b[1;36mOPTIONS\u001b[0m] \u001b[1;36mCOMMAND\u001b[0m [\u001b[1;36mARGS\u001b[0m]...                                      \n",
            "                                                                                \n",
            "\u001b[2m╭─\u001b[0m\u001b[2m Options \u001b[0m\u001b[2m───────────────────────────────────────────────────────────────────\u001b[0m\u001b[2m─╮\u001b[0m\n",
            "\u001b[2m│\u001b[0m \u001b[1;36m--help\u001b[0m      Show this message and exit.                                      \u001b[2m│\u001b[0m\n",
            "\u001b[2m╰──────────────────────────────────────────────────────────────────────────────╯\u001b[0m\n",
            "\u001b[2m╭─\u001b[0m\u001b[2m Commands \u001b[0m\u001b[2m──────────────────────────────────────────────────────────────────\u001b[0m\u001b[2m─╮\u001b[0m\n",
            "\u001b[2m│\u001b[0m \u001b[1;36mcreate          \u001b[0m\u001b[1;36m \u001b[0m Quickly create a solara script or project.                 \u001b[2m│\u001b[0m\n",
            "\u001b[2m│\u001b[0m \u001b[1;36mdeploy          \u001b[0m\u001b[1;36m \u001b[0m                                                            \u001b[2m│\u001b[0m\n",
            "\u001b[2m│\u001b[0m \u001b[1;36mrun             \u001b[0m\u001b[1;36m \u001b[0m Run a Solara app.                                          \u001b[2m│\u001b[0m\n",
            "\u001b[2m│\u001b[0m \u001b[1;36msearch          \u001b[0m\u001b[1;36m \u001b[0m Build search index based on ssg output                     \u001b[2m│\u001b[0m\n",
            "\u001b[2m│\u001b[0m \u001b[1;36mssg             \u001b[0m\u001b[1;36m \u001b[0m Static site generation                                     \u001b[2m│\u001b[0m\n",
            "\u001b[2m│\u001b[0m \u001b[1;36mstaticbuild     \u001b[0m\u001b[1;36m \u001b[0m Experimental static build                                  \u001b[2m│\u001b[0m\n",
            "\u001b[2m│\u001b[0m \u001b[1;36mstaticserve     \u001b[0m\u001b[1;36m \u001b[0m Experimental static serving                                \u001b[2m│\u001b[0m\n",
            "\u001b[2m╰──────────────────────────────────────────────────────────────────────────────╯\u001b[0m\n",
            "\n",
            "zsh:1: command not found: matplotlib\n",
            "zsh:1: command not found: ipywidgets\n"
          ]
        }
      ],
      "source": [
        "!pip install seaborn; solara; matplotlib; ipywidgets"
      ]
    },
    {
      "cell_type": "code",
      "execution_count": null,
      "metadata": {
        "id": "-rcWcNPizjGv"
      },
      "outputs": [],
      "source": [
        "# Import Mesa modules\n",
        "from mesa import Agent, Model\n",
        "from mesa.agent import AgentSet\n",
        "from mesa.space import MultiGrid\n",
        "from mesa.datacollection import DataCollector\n",
        "\n",
        "# Import visualization modules\n",
        "from mesa.visualization import SolaraViz, make_space_component\n",
        "import solara"
      ]
    },
    {
      "cell_type": "code",
      "execution_count": null,
      "metadata": {
        "id": "iv5aeZAqzjGv"
      },
      "outputs": [],
      "source": [
        "class CarAgent(Agent):\n",
        "    \"\"\"An agent representing a car moving from a start to a destination.\"\"\"\n",
        "\n",
        "    def __init__(self, start_pos, destination_pos, model):\n",
        "        super().__init__(model)\n",
        "        self.start_pos = start_pos\n",
        "        self.destination_pos = destination_pos\n",
        "        self.path = []\n",
        "        self.calculate_path()\n",
        "\n",
        "    def calculate_path(self):\n",
        "        \"\"\"Calculate a simple path from start to destination.\"\"\"\n",
        "        current_x, current_y = self.start_pos\n",
        "        dest_x, dest_y = self.destination_pos\n",
        "        self.path = []\n",
        "\n",
        "        # Move horizontally towards the destination\n",
        "        step_x = 1 if dest_x > current_x else -1\n",
        "        for x in range(current_x, dest_x, step_x):\n",
        "            self.path.append((x + step_x, current_y))\n",
        "\n",
        "        # Move vertically towards the destination\n",
        "        step_y = 1 if dest_y > current_y else -1\n",
        "        for y in range(current_y, dest_y, step_y):\n",
        "            self.path.append((dest_x, y + step_y))\n",
        "\n",
        "    def step(self):\n",
        "        \"\"\"Advance the agent by one step along its path.\"\"\"\n",
        "        if self.path:\n",
        "            next_pos = self.path.pop(0)\n",
        "            if self.model.grid.out_of_bounds(next_pos):\n",
        "                return\n",
        "            self.model.grid.move_agent(self, next_pos)\n",
        "        else:\n",
        "            # Keep the agent at the destination\n",
        "            self.active = False"
      ]
    },
    {
      "cell_type": "code",
      "execution_count": null,
      "metadata": {
        "id": "PkSJ4Fx9zjGw"
      },
      "outputs": [],
      "source": [
        "class CityModel(Model):\n",
        "    \"\"\"A simple model of cars moving in a city grid.\"\"\"\n",
        "\n",
        "    def __init__(self, num_cars=5, width=10, height=10):\n",
        "        super().__init__()\n",
        "        self.num_agents = num_cars\n",
        "        self.grid = MultiGrid(width, height, torus=False)\n",
        "        self.agent_set = AgentSet([], random=self.random)\n",
        "\n",
        "        # Define parking lot positions\n",
        "        self.parking_lot_positions = [(0, 0), (width - 1, height - 1)]\n",
        "\n",
        "        # Create car agents\n",
        "        for _ in range(self.num_agents):\n",
        "            start_pos = self.random.choice(self.parking_lot_positions)\n",
        "            dest_pos = self.random.choice(\n",
        "                [pos for pos in self.parking_lot_positions if pos != start_pos]\n",
        "            )\n",
        "            car_agent = CarAgent(start_pos, dest_pos, self)\n",
        "            self.agent_set.add(car_agent)\n",
        "            self.grid.place_agent(car_agent, start_pos)\n",
        "\n",
        "        # Data collector to track the number of agents remaining in the model\n",
        "        self.datacollector = DataCollector(\n",
        "            model_reporters={\"RemainingAgents\": lambda m: len(m.agent_set)},\n",
        "        )\n",
        "\n",
        "    def step(self):\n",
        "        \"\"\"Advance the model by one step.\"\"\"\n",
        "        self.agent_set.do(lambda agent: agent.step())\n",
        "        self.datacollector.collect(self)"
      ]
    },
    {
      "cell_type": "code",
      "execution_count": null,
      "metadata": {
        "id": "wo0qviGszjGw"
      },
      "outputs": [],
      "source": [
        "def agent_portrayal(agent):\n",
        "    portrayal = {\n",
        "        \"x\": agent.pos[0],\n",
        "        \"y\": agent.pos[1],\n",
        "        \"color\": \"blue\",\n",
        "        \"marker\": \"o\",\n",
        "        \"size\": 5,\n",
        "        \"alpha\": 1.0,\n",
        "    }\n",
        "    return portrayal"
      ]
    },
    {
      "cell_type": "code",
      "execution_count": null,
      "metadata": {
        "id": "cFB8VNcxzjGw"
      },
      "outputs": [],
      "source": [
        "# Create the SpaceComponent for visualization\n",
        "SpaceComponent = make_space_component(agent_portrayal)\n",
        "\n",
        "# Create an instance of the model\n",
        "model = CityModel(num_cars=5, width=10, height=10)\n",
        "\n"
      ]
    },
    {
      "cell_type": "code",
      "execution_count": null,
      "metadata": {
        "id": "484SQa37zjGw",
        "outputId": "59caac21-21f4-4642-d789-eda4c231a179",
        "colab": {
          "referenced_widgets": [
            "9092a7c65db74977a859e723272735f1"
          ]
        }
      },
      "outputs": [
        {
          "data": {
            "application/vnd.jupyter.widget-view+json": {
              "model_id": "9092a7c65db74977a859e723272735f1",
              "version_major": 2,
              "version_minor": 0
            },
            "text/html": [
              "Cannot show widget. You probably want to rerun the code cell above (<i>Click in the code cell, and press Shift+Enter <kbd>⇧</kbd>+<kbd>↩</kbd></i>)."
            ],
            "text/plain": [
              "Cannot show ipywidgets in text"
            ]
          },
          "metadata": {},
          "output_type": "display_data"
        }
      ],
      "source": [
        "# Create the SolaraViz page for visualization\n",
        "page = SolaraViz(\n",
        "    model,\n",
        "    components=[SpaceComponent],\n",
        "    name=\"Simple City Model\",\n",
        ")\n",
        "\n",
        "# Display the page (in a Jupyter Notebook or Solara app)\n",
        "page"
      ]
    }
  ],
  "metadata": {
    "colab": {
      "provenance": [],
      "include_colab_link": true
    },
    "kernelspec": {
      "display_name": "Python 3",
      "name": "python3"
    },
    "language_info": {
      "codemirror_mode": {
        "name": "ipython",
        "version": 3
      },
      "file_extension": ".py",
      "mimetype": "text/x-python",
      "name": "python",
      "nbconvert_exporter": "python",
      "pygments_lexer": "ipython3",
      "version": "3.13.0"
    }
  },
  "nbformat": 4,
  "nbformat_minor": 0
}